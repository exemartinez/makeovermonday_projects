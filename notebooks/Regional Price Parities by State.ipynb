{
 "cells": [
  {
   "cell_type": "code",
   "execution_count": 1,
   "metadata": {},
   "outputs": [],
   "source": [
    "import pandas as pd\n",
    "import os"
   ]
  },
  {
   "cell_type": "code",
   "execution_count": 11,
   "metadata": {},
   "outputs": [],
   "source": [
    "filename = \"Regional Price Parities by State -WIP.xlsx\""
   ]
  },
  {
   "cell_type": "code",
   "execution_count": 12,
   "metadata": {},
   "outputs": [],
   "source": [
    "data = pd.read_excel(filename)"
   ]
  },
  {
   "cell_type": "code",
   "execution_count": 13,
   "metadata": {},
   "outputs": [
    {
     "output_type": "execute_result",
     "data": {
      "text/plain": [
       "   GeoFips        GeoName  LineCode      Description   2008   2009   2010  \\\n",
       "0        0  United States         1        All items  100.0  100.0  100.0   \n",
       "1        0  United States         2            Goods   99.5   99.5   99.4   \n",
       "2        0  United States         3  Services: Rents  100.9  100.9  101.3   \n",
       "3        0  United States         4  Services: Other  100.1  100.1  100.0   \n",
       "4     1000        Alabama         1        All items   87.6   87.5   87.9   \n",
       "5     1000        Alabama         2            Goods   97.6   97.6   96.6   \n",
       "6     1000        Alabama         3  Services: Rents   63.9   63.7   63.8   \n",
       "7     1000        Alabama         4  Services: Other   93.6   93.2   93.2   \n",
       "8     2000         Alaska         1        All items  106.9  106.9  105.5   \n",
       "\n",
       "    2011   2012   2013   2014   2015   2016   2017   2018   2019  \n",
       "0  100.0  100.0  100.0  100.0  100.0  100.0  100.0  100.0  100.0  \n",
       "1   99.4   99.4   99.4   99.4   99.4   99.3   99.3   99.2   99.2  \n",
       "2  101.3  101.1  101.2  101.1  101.1  101.3  101.3  101.4  101.4  \n",
       "3  100.0  100.0  100.0  100.1  100.0  100.0   99.9   99.9  100.0  \n",
       "4   87.7   88.1   87.8   87.1   86.8   86.1   85.5   85.9   85.8  \n",
       "5   96.3   96.2   96.0   96.2   96.4   96.1   95.7   95.9   95.9  \n",
       "6   63.1   64.4   63.6   63.8   62.8   63.1   63.1   61.8   61.9  \n",
       "7   93.5   93.7   94.0   93.3   93.3   91.8   90.4   90.3   90.3  \n",
       "8  105.1  105.4  104.9  106.3  105.5  105.7  105.9  105.7  105.1  "
      ],
      "text/html": "<div>\n<style scoped>\n    .dataframe tbody tr th:only-of-type {\n        vertical-align: middle;\n    }\n\n    .dataframe tbody tr th {\n        vertical-align: top;\n    }\n\n    .dataframe thead th {\n        text-align: right;\n    }\n</style>\n<table border=\"1\" class=\"dataframe\">\n  <thead>\n    <tr style=\"text-align: right;\">\n      <th></th>\n      <th>GeoFips</th>\n      <th>GeoName</th>\n      <th>LineCode</th>\n      <th>Description</th>\n      <th>2008</th>\n      <th>2009</th>\n      <th>2010</th>\n      <th>2011</th>\n      <th>2012</th>\n      <th>2013</th>\n      <th>2014</th>\n      <th>2015</th>\n      <th>2016</th>\n      <th>2017</th>\n      <th>2018</th>\n      <th>2019</th>\n    </tr>\n  </thead>\n  <tbody>\n    <tr>\n      <th>0</th>\n      <td>0</td>\n      <td>United States</td>\n      <td>1</td>\n      <td>All items</td>\n      <td>100.0</td>\n      <td>100.0</td>\n      <td>100.0</td>\n      <td>100.0</td>\n      <td>100.0</td>\n      <td>100.0</td>\n      <td>100.0</td>\n      <td>100.0</td>\n      <td>100.0</td>\n      <td>100.0</td>\n      <td>100.0</td>\n      <td>100.0</td>\n    </tr>\n    <tr>\n      <th>1</th>\n      <td>0</td>\n      <td>United States</td>\n      <td>2</td>\n      <td>Goods</td>\n      <td>99.5</td>\n      <td>99.5</td>\n      <td>99.4</td>\n      <td>99.4</td>\n      <td>99.4</td>\n      <td>99.4</td>\n      <td>99.4</td>\n      <td>99.4</td>\n      <td>99.3</td>\n      <td>99.3</td>\n      <td>99.2</td>\n      <td>99.2</td>\n    </tr>\n    <tr>\n      <th>2</th>\n      <td>0</td>\n      <td>United States</td>\n      <td>3</td>\n      <td>Services: Rents</td>\n      <td>100.9</td>\n      <td>100.9</td>\n      <td>101.3</td>\n      <td>101.3</td>\n      <td>101.1</td>\n      <td>101.2</td>\n      <td>101.1</td>\n      <td>101.1</td>\n      <td>101.3</td>\n      <td>101.3</td>\n      <td>101.4</td>\n      <td>101.4</td>\n    </tr>\n    <tr>\n      <th>3</th>\n      <td>0</td>\n      <td>United States</td>\n      <td>4</td>\n      <td>Services: Other</td>\n      <td>100.1</td>\n      <td>100.1</td>\n      <td>100.0</td>\n      <td>100.0</td>\n      <td>100.0</td>\n      <td>100.0</td>\n      <td>100.1</td>\n      <td>100.0</td>\n      <td>100.0</td>\n      <td>99.9</td>\n      <td>99.9</td>\n      <td>100.0</td>\n    </tr>\n    <tr>\n      <th>4</th>\n      <td>1000</td>\n      <td>Alabama</td>\n      <td>1</td>\n      <td>All items</td>\n      <td>87.6</td>\n      <td>87.5</td>\n      <td>87.9</td>\n      <td>87.7</td>\n      <td>88.1</td>\n      <td>87.8</td>\n      <td>87.1</td>\n      <td>86.8</td>\n      <td>86.1</td>\n      <td>85.5</td>\n      <td>85.9</td>\n      <td>85.8</td>\n    </tr>\n    <tr>\n      <th>5</th>\n      <td>1000</td>\n      <td>Alabama</td>\n      <td>2</td>\n      <td>Goods</td>\n      <td>97.6</td>\n      <td>97.6</td>\n      <td>96.6</td>\n      <td>96.3</td>\n      <td>96.2</td>\n      <td>96.0</td>\n      <td>96.2</td>\n      <td>96.4</td>\n      <td>96.1</td>\n      <td>95.7</td>\n      <td>95.9</td>\n      <td>95.9</td>\n    </tr>\n    <tr>\n      <th>6</th>\n      <td>1000</td>\n      <td>Alabama</td>\n      <td>3</td>\n      <td>Services: Rents</td>\n      <td>63.9</td>\n      <td>63.7</td>\n      <td>63.8</td>\n      <td>63.1</td>\n      <td>64.4</td>\n      <td>63.6</td>\n      <td>63.8</td>\n      <td>62.8</td>\n      <td>63.1</td>\n      <td>63.1</td>\n      <td>61.8</td>\n      <td>61.9</td>\n    </tr>\n    <tr>\n      <th>7</th>\n      <td>1000</td>\n      <td>Alabama</td>\n      <td>4</td>\n      <td>Services: Other</td>\n      <td>93.6</td>\n      <td>93.2</td>\n      <td>93.2</td>\n      <td>93.5</td>\n      <td>93.7</td>\n      <td>94.0</td>\n      <td>93.3</td>\n      <td>93.3</td>\n      <td>91.8</td>\n      <td>90.4</td>\n      <td>90.3</td>\n      <td>90.3</td>\n    </tr>\n    <tr>\n      <th>8</th>\n      <td>2000</td>\n      <td>Alaska</td>\n      <td>1</td>\n      <td>All items</td>\n      <td>106.9</td>\n      <td>106.9</td>\n      <td>105.5</td>\n      <td>105.1</td>\n      <td>105.4</td>\n      <td>104.9</td>\n      <td>106.3</td>\n      <td>105.5</td>\n      <td>105.7</td>\n      <td>105.9</td>\n      <td>105.7</td>\n      <td>105.1</td>\n    </tr>\n  </tbody>\n</table>\n</div>"
     },
     "metadata": {},
     "execution_count": 13
    }
   ],
   "source": [
    "data.head(9)"
   ]
  },
  {
   "cell_type": "code",
   "execution_count": 19,
   "metadata": {},
   "outputs": [
    {
     "output_type": "execute_result",
     "data": {
      "text/plain": [
       "     GeoFips    GeoName  LineCode      Description  2008  2009  2010  2011  \\\n",
       "202    55000  Wisconsin         3  Services: Rents  89.0  88.0  87.1  88.0   \n",
       "203    55000  Wisconsin         4  Services: Other  91.9  91.9  92.1  92.8   \n",
       "204    56000    Wyoming         1        All items  96.1  96.1  95.9  96.7   \n",
       "205    56000    Wyoming         2            Goods  98.9  98.8  98.9  98.6   \n",
       "206    56000    Wyoming         3  Services: Rents  85.1  87.7  87.8  94.2   \n",
       "207    56000    Wyoming         4  Services: Other  97.6  96.2  95.9  95.5   \n",
       "\n",
       "     2012  2013  2014  2015  2016  2017  2018  2019  \n",
       "202  87.6  86.2  86.6  85.8  84.7  84.2  83.7  83.7  \n",
       "203  93.7  93.2  93.6  93.1  92.5  92.3  92.3  92.3  \n",
       "204  95.8  96.0  96.8  96.4  95.9  94.0  92.3  92.8  \n",
       "205  98.3  98.3  98.8  99.4  97.7  96.8  96.7  96.7  \n",
       "206  90.7  89.9  93.5  91.5  92.8  85.6  80.7  82.4  \n",
       "207  95.2  96.1  96.0  95.2  95.0  94.7  94.8  94.8  "
      ],
      "text/html": "<div>\n<style scoped>\n    .dataframe tbody tr th:only-of-type {\n        vertical-align: middle;\n    }\n\n    .dataframe tbody tr th {\n        vertical-align: top;\n    }\n\n    .dataframe thead th {\n        text-align: right;\n    }\n</style>\n<table border=\"1\" class=\"dataframe\">\n  <thead>\n    <tr style=\"text-align: right;\">\n      <th></th>\n      <th>GeoFips</th>\n      <th>GeoName</th>\n      <th>LineCode</th>\n      <th>Description</th>\n      <th>2008</th>\n      <th>2009</th>\n      <th>2010</th>\n      <th>2011</th>\n      <th>2012</th>\n      <th>2013</th>\n      <th>2014</th>\n      <th>2015</th>\n      <th>2016</th>\n      <th>2017</th>\n      <th>2018</th>\n      <th>2019</th>\n    </tr>\n  </thead>\n  <tbody>\n    <tr>\n      <th>202</th>\n      <td>55000</td>\n      <td>Wisconsin</td>\n      <td>3</td>\n      <td>Services: Rents</td>\n      <td>89.0</td>\n      <td>88.0</td>\n      <td>87.1</td>\n      <td>88.0</td>\n      <td>87.6</td>\n      <td>86.2</td>\n      <td>86.6</td>\n      <td>85.8</td>\n      <td>84.7</td>\n      <td>84.2</td>\n      <td>83.7</td>\n      <td>83.7</td>\n    </tr>\n    <tr>\n      <th>203</th>\n      <td>55000</td>\n      <td>Wisconsin</td>\n      <td>4</td>\n      <td>Services: Other</td>\n      <td>91.9</td>\n      <td>91.9</td>\n      <td>92.1</td>\n      <td>92.8</td>\n      <td>93.7</td>\n      <td>93.2</td>\n      <td>93.6</td>\n      <td>93.1</td>\n      <td>92.5</td>\n      <td>92.3</td>\n      <td>92.3</td>\n      <td>92.3</td>\n    </tr>\n    <tr>\n      <th>204</th>\n      <td>56000</td>\n      <td>Wyoming</td>\n      <td>1</td>\n      <td>All items</td>\n      <td>96.1</td>\n      <td>96.1</td>\n      <td>95.9</td>\n      <td>96.7</td>\n      <td>95.8</td>\n      <td>96.0</td>\n      <td>96.8</td>\n      <td>96.4</td>\n      <td>95.9</td>\n      <td>94.0</td>\n      <td>92.3</td>\n      <td>92.8</td>\n    </tr>\n    <tr>\n      <th>205</th>\n      <td>56000</td>\n      <td>Wyoming</td>\n      <td>2</td>\n      <td>Goods</td>\n      <td>98.9</td>\n      <td>98.8</td>\n      <td>98.9</td>\n      <td>98.6</td>\n      <td>98.3</td>\n      <td>98.3</td>\n      <td>98.8</td>\n      <td>99.4</td>\n      <td>97.7</td>\n      <td>96.8</td>\n      <td>96.7</td>\n      <td>96.7</td>\n    </tr>\n    <tr>\n      <th>206</th>\n      <td>56000</td>\n      <td>Wyoming</td>\n      <td>3</td>\n      <td>Services: Rents</td>\n      <td>85.1</td>\n      <td>87.7</td>\n      <td>87.8</td>\n      <td>94.2</td>\n      <td>90.7</td>\n      <td>89.9</td>\n      <td>93.5</td>\n      <td>91.5</td>\n      <td>92.8</td>\n      <td>85.6</td>\n      <td>80.7</td>\n      <td>82.4</td>\n    </tr>\n    <tr>\n      <th>207</th>\n      <td>56000</td>\n      <td>Wyoming</td>\n      <td>4</td>\n      <td>Services: Other</td>\n      <td>97.6</td>\n      <td>96.2</td>\n      <td>95.9</td>\n      <td>95.5</td>\n      <td>95.2</td>\n      <td>96.1</td>\n      <td>96.0</td>\n      <td>95.2</td>\n      <td>95.0</td>\n      <td>94.7</td>\n      <td>94.8</td>\n      <td>94.8</td>\n    </tr>\n  </tbody>\n</table>\n</div>"
     },
     "metadata": {},
     "execution_count": 19
    }
   ],
   "source": [
    "data.tail(6)"
   ]
  },
  {
   "cell_type": "code",
   "execution_count": 20,
   "metadata": {},
   "outputs": [
    {
     "output_type": "execute_result",
     "data": {
      "text/plain": [
       "(208, 16)"
      ]
     },
     "metadata": {},
     "execution_count": 20
    }
   ],
   "source": [
    "data.shape"
   ]
  },
  {
   "cell_type": "code",
   "execution_count": 21,
   "metadata": {},
   "outputs": [
    {
     "output_type": "execute_result",
     "data": {
      "text/plain": [
       "array(['GeoFips', 'GeoName', 'LineCode', 'Description', '2008', '2009',\n",
       "       '2010', '2011', '2012', '2013', '2014', '2015', '2016', '2017',\n",
       "       '2018', '2019'], dtype=object)"
      ]
     },
     "metadata": {},
     "execution_count": 21
    }
   ],
   "source": [
    "cols = data.columns.values\n",
    "cols"
   ]
  },
  {
   "cell_type": "code",
   "execution_count": 18,
   "metadata": {},
   "outputs": [
    {
     "output_type": "execute_result",
     "data": {
      "text/plain": [
       "16"
      ]
     },
     "metadata": {},
     "execution_count": 18
    }
   ],
   "source": [
    "n_cols = len(cols)\n",
    "n_cols"
   ]
  },
  {
   "cell_type": "code",
   "execution_count": 22,
   "metadata": {},
   "outputs": [
    {
     "output_type": "execute_result",
     "data": {
      "text/plain": [
       "            GeoFips    LineCode        2008        2009        2010  \\\n",
       "count    208.000000  208.000000  208.000000  208.000000  208.000000   \n",
       "mean   28403.846154    2.500000   97.606250   97.677404   97.259135   \n",
       "std    16065.397286    1.120731   13.910904   13.921707   13.738205   \n",
       "min        0.000000    1.000000   60.100000   61.600000   62.500000   \n",
       "25%    15750.000000    1.750000   92.150000   92.075000   91.875000   \n",
       "50%    28500.000000    2.500000   97.600000   97.700000   97.100000   \n",
       "75%    41250.000000    3.250000  101.725000  101.650000  101.450000   \n",
       "max    56000.000000    4.000000  167.500000  164.600000  159.200000   \n",
       "\n",
       "             2011        2012        2013        2014        2015        2016  \\\n",
       "count  208.000000  208.000000  208.000000  208.000000  208.000000  208.000000   \n",
       "mean    97.350481   97.454327   97.451923   97.515385   97.383173   97.145673   \n",
       "std     13.586765   13.528134   13.320628   13.702616   13.470768   13.269291   \n",
       "min     63.100000   62.400000   62.900000   62.900000   62.800000   63.100000   \n",
       "25%     92.500000   92.175000   92.200000   92.550000   92.650000   91.775000   \n",
       "50%     97.200000   97.200000   97.200000   96.800000   96.550000   96.250000   \n",
       "75%    101.400000  100.850000  100.825000  101.225000  101.525000  101.900000   \n",
       "max    157.300000  159.100000  159.300000  161.600000  163.400000  157.200000   \n",
       "\n",
       "             2017        2018        2019  \n",
       "count  208.000000  208.000000  208.000000  \n",
       "mean    96.982212   96.870192   96.828846  \n",
       "std     13.596086   13.320547   13.534366  \n",
       "min     61.400000   60.800000   60.000000  \n",
       "25%     91.675000   91.500000   91.500000  \n",
       "50%     96.000000   96.100000   96.150000  \n",
       "75%    102.125000  101.925000  102.225000  \n",
       "max    156.300000  152.600000  153.600000  "
      ],
      "text/html": "<div>\n<style scoped>\n    .dataframe tbody tr th:only-of-type {\n        vertical-align: middle;\n    }\n\n    .dataframe tbody tr th {\n        vertical-align: top;\n    }\n\n    .dataframe thead th {\n        text-align: right;\n    }\n</style>\n<table border=\"1\" class=\"dataframe\">\n  <thead>\n    <tr style=\"text-align: right;\">\n      <th></th>\n      <th>GeoFips</th>\n      <th>LineCode</th>\n      <th>2008</th>\n      <th>2009</th>\n      <th>2010</th>\n      <th>2011</th>\n      <th>2012</th>\n      <th>2013</th>\n      <th>2014</th>\n      <th>2015</th>\n      <th>2016</th>\n      <th>2017</th>\n      <th>2018</th>\n      <th>2019</th>\n    </tr>\n  </thead>\n  <tbody>\n    <tr>\n      <th>count</th>\n      <td>208.000000</td>\n      <td>208.000000</td>\n      <td>208.000000</td>\n      <td>208.000000</td>\n      <td>208.000000</td>\n      <td>208.000000</td>\n      <td>208.000000</td>\n      <td>208.000000</td>\n      <td>208.000000</td>\n      <td>208.000000</td>\n      <td>208.000000</td>\n      <td>208.000000</td>\n      <td>208.000000</td>\n      <td>208.000000</td>\n    </tr>\n    <tr>\n      <th>mean</th>\n      <td>28403.846154</td>\n      <td>2.500000</td>\n      <td>97.606250</td>\n      <td>97.677404</td>\n      <td>97.259135</td>\n      <td>97.350481</td>\n      <td>97.454327</td>\n      <td>97.451923</td>\n      <td>97.515385</td>\n      <td>97.383173</td>\n      <td>97.145673</td>\n      <td>96.982212</td>\n      <td>96.870192</td>\n      <td>96.828846</td>\n    </tr>\n    <tr>\n      <th>std</th>\n      <td>16065.397286</td>\n      <td>1.120731</td>\n      <td>13.910904</td>\n      <td>13.921707</td>\n      <td>13.738205</td>\n      <td>13.586765</td>\n      <td>13.528134</td>\n      <td>13.320628</td>\n      <td>13.702616</td>\n      <td>13.470768</td>\n      <td>13.269291</td>\n      <td>13.596086</td>\n      <td>13.320547</td>\n      <td>13.534366</td>\n    </tr>\n    <tr>\n      <th>min</th>\n      <td>0.000000</td>\n      <td>1.000000</td>\n      <td>60.100000</td>\n      <td>61.600000</td>\n      <td>62.500000</td>\n      <td>63.100000</td>\n      <td>62.400000</td>\n      <td>62.900000</td>\n      <td>62.900000</td>\n      <td>62.800000</td>\n      <td>63.100000</td>\n      <td>61.400000</td>\n      <td>60.800000</td>\n      <td>60.000000</td>\n    </tr>\n    <tr>\n      <th>25%</th>\n      <td>15750.000000</td>\n      <td>1.750000</td>\n      <td>92.150000</td>\n      <td>92.075000</td>\n      <td>91.875000</td>\n      <td>92.500000</td>\n      <td>92.175000</td>\n      <td>92.200000</td>\n      <td>92.550000</td>\n      <td>92.650000</td>\n      <td>91.775000</td>\n      <td>91.675000</td>\n      <td>91.500000</td>\n      <td>91.500000</td>\n    </tr>\n    <tr>\n      <th>50%</th>\n      <td>28500.000000</td>\n      <td>2.500000</td>\n      <td>97.600000</td>\n      <td>97.700000</td>\n      <td>97.100000</td>\n      <td>97.200000</td>\n      <td>97.200000</td>\n      <td>97.200000</td>\n      <td>96.800000</td>\n      <td>96.550000</td>\n      <td>96.250000</td>\n      <td>96.000000</td>\n      <td>96.100000</td>\n      <td>96.150000</td>\n    </tr>\n    <tr>\n      <th>75%</th>\n      <td>41250.000000</td>\n      <td>3.250000</td>\n      <td>101.725000</td>\n      <td>101.650000</td>\n      <td>101.450000</td>\n      <td>101.400000</td>\n      <td>100.850000</td>\n      <td>100.825000</td>\n      <td>101.225000</td>\n      <td>101.525000</td>\n      <td>101.900000</td>\n      <td>102.125000</td>\n      <td>101.925000</td>\n      <td>102.225000</td>\n    </tr>\n    <tr>\n      <th>max</th>\n      <td>56000.000000</td>\n      <td>4.000000</td>\n      <td>167.500000</td>\n      <td>164.600000</td>\n      <td>159.200000</td>\n      <td>157.300000</td>\n      <td>159.100000</td>\n      <td>159.300000</td>\n      <td>161.600000</td>\n      <td>163.400000</td>\n      <td>157.200000</td>\n      <td>156.300000</td>\n      <td>152.600000</td>\n      <td>153.600000</td>\n    </tr>\n  </tbody>\n</table>\n</div>"
     },
     "metadata": {},
     "execution_count": 22
    }
   ],
   "source": [
    "data.describe()"
   ]
  },
  {
   "cell_type": "code",
   "execution_count": 23,
   "metadata": {},
   "outputs": [
    {
     "output_type": "execute_result",
     "data": {
      "text/plain": [
       "GeoFips          int64\n",
       "GeoName         object\n",
       "LineCode         int64\n",
       "Description     object\n",
       "2008           float64\n",
       "2009           float64\n",
       "2010           float64\n",
       "2011           float64\n",
       "2012           float64\n",
       "2013           float64\n",
       "2014           float64\n",
       "2015           float64\n",
       "2016           float64\n",
       "2017           float64\n",
       "2018           float64\n",
       "2019           float64\n",
       "dtype: object"
      ]
     },
     "metadata": {},
     "execution_count": 23
    }
   ],
   "source": [
    "data.dtypes"
   ]
  },
  {
   "source": [
    "## celdas vacías?"
   ],
   "cell_type": "markdown",
   "metadata": {}
  },
  {
   "cell_type": "code",
   "execution_count": 33,
   "metadata": {},
   "outputs": [
    {
     "output_type": "execute_result",
     "data": {
      "text/plain": [
       "0      False\n",
       "1      False\n",
       "2      False\n",
       "3      False\n",
       "4      False\n",
       "       ...  \n",
       "203    False\n",
       "204    False\n",
       "205    False\n",
       "206    False\n",
       "207    False\n",
       "Name: GeoName, Length: 208, dtype: bool"
      ]
     },
     "metadata": {},
     "execution_count": 33
    }
   ],
   "source": [
    "pd.isnull(data[cols[1]])"
   ]
  },
  {
   "cell_type": "code",
   "execution_count": 34,
   "metadata": {},
   "outputs": [
    {
     "output_type": "execute_result",
     "data": {
      "text/plain": [
       "array([False, False, False, False, False, False, False, False, False,\n",
       "       False, False, False, False, False, False, False, False, False,\n",
       "       False, False, False, False, False, False, False, False, False,\n",
       "       False, False, False, False, False, False, False, False, False,\n",
       "       False, False, False, False, False, False, False, False, False,\n",
       "       False, False, False, False, False, False, False, False, False,\n",
       "       False, False, False, False, False, False, False, False, False,\n",
       "       False, False, False, False, False, False, False, False, False,\n",
       "       False, False, False, False, False, False, False, False, False,\n",
       "       False, False, False, False, False, False, False, False, False,\n",
       "       False, False, False, False, False, False, False, False, False,\n",
       "       False, False, False, False, False, False, False, False, False,\n",
       "       False, False, False, False, False, False, False, False, False,\n",
       "       False, False, False, False, False, False, False, False, False,\n",
       "       False, False, False, False, False, False, False, False, False,\n",
       "       False, False, False, False, False, False, False, False, False,\n",
       "       False, False, False, False, False, False, False, False, False,\n",
       "       False, False, False, False, False, False, False, False, False,\n",
       "       False, False, False, False, False, False, False, False, False,\n",
       "       False, False, False, False, False, False, False, False, False,\n",
       "       False, False, False, False, False, False, False, False, False,\n",
       "       False, False, False, False, False, False, False, False, False,\n",
       "       False, False, False, False, False, False, False, False, False,\n",
       "       False])"
      ]
     },
     "metadata": {},
     "execution_count": 34
    }
   ],
   "source": [
    "pd.isnull(data[cols[1]]).values.ravel()"
   ]
  },
  {
   "cell_type": "code",
   "execution_count": 35,
   "metadata": {},
   "outputs": [],
   "source": [
    "subset = data[[\"GeoName\", \"Description\", \"2008\", \"2009\",\"2010\", \"2011\", \"2012\", \"2013\", \"2014\", \"2015\", \"2016\", \"2017\",\"2018\", \"2019\"]]"
   ]
  },
  {
   "cell_type": "code",
   "execution_count": 36,
   "metadata": {},
   "outputs": [
    {
     "output_type": "execute_result",
     "data": {
      "text/plain": [
       "         GeoName      Description   2008   2009   2010   2011   2012   2013  \\\n",
       "0  United States        All items  100.0  100.0  100.0  100.0  100.0  100.0   \n",
       "1  United States            Goods   99.5   99.5   99.4   99.4   99.4   99.4   \n",
       "2  United States  Services: Rents  100.9  100.9  101.3  101.3  101.1  101.2   \n",
       "3  United States  Services: Other  100.1  100.1  100.0  100.0  100.0  100.0   \n",
       "4        Alabama        All items   87.6   87.5   87.9   87.7   88.1   87.8   \n",
       "\n",
       "    2014   2015   2016   2017   2018   2019  \n",
       "0  100.0  100.0  100.0  100.0  100.0  100.0  \n",
       "1   99.4   99.4   99.3   99.3   99.2   99.2  \n",
       "2  101.1  101.1  101.3  101.3  101.4  101.4  \n",
       "3  100.1  100.0  100.0   99.9   99.9  100.0  \n",
       "4   87.1   86.8   86.1   85.5   85.9   85.8  "
      ],
      "text/html": "<div>\n<style scoped>\n    .dataframe tbody tr th:only-of-type {\n        vertical-align: middle;\n    }\n\n    .dataframe tbody tr th {\n        vertical-align: top;\n    }\n\n    .dataframe thead th {\n        text-align: right;\n    }\n</style>\n<table border=\"1\" class=\"dataframe\">\n  <thead>\n    <tr style=\"text-align: right;\">\n      <th></th>\n      <th>GeoName</th>\n      <th>Description</th>\n      <th>2008</th>\n      <th>2009</th>\n      <th>2010</th>\n      <th>2011</th>\n      <th>2012</th>\n      <th>2013</th>\n      <th>2014</th>\n      <th>2015</th>\n      <th>2016</th>\n      <th>2017</th>\n      <th>2018</th>\n      <th>2019</th>\n    </tr>\n  </thead>\n  <tbody>\n    <tr>\n      <th>0</th>\n      <td>United States</td>\n      <td>All items</td>\n      <td>100.0</td>\n      <td>100.0</td>\n      <td>100.0</td>\n      <td>100.0</td>\n      <td>100.0</td>\n      <td>100.0</td>\n      <td>100.0</td>\n      <td>100.0</td>\n      <td>100.0</td>\n      <td>100.0</td>\n      <td>100.0</td>\n      <td>100.0</td>\n    </tr>\n    <tr>\n      <th>1</th>\n      <td>United States</td>\n      <td>Goods</td>\n      <td>99.5</td>\n      <td>99.5</td>\n      <td>99.4</td>\n      <td>99.4</td>\n      <td>99.4</td>\n      <td>99.4</td>\n      <td>99.4</td>\n      <td>99.4</td>\n      <td>99.3</td>\n      <td>99.3</td>\n      <td>99.2</td>\n      <td>99.2</td>\n    </tr>\n    <tr>\n      <th>2</th>\n      <td>United States</td>\n      <td>Services: Rents</td>\n      <td>100.9</td>\n      <td>100.9</td>\n      <td>101.3</td>\n      <td>101.3</td>\n      <td>101.1</td>\n      <td>101.2</td>\n      <td>101.1</td>\n      <td>101.1</td>\n      <td>101.3</td>\n      <td>101.3</td>\n      <td>101.4</td>\n      <td>101.4</td>\n    </tr>\n    <tr>\n      <th>3</th>\n      <td>United States</td>\n      <td>Services: Other</td>\n      <td>100.1</td>\n      <td>100.1</td>\n      <td>100.0</td>\n      <td>100.0</td>\n      <td>100.0</td>\n      <td>100.0</td>\n      <td>100.1</td>\n      <td>100.0</td>\n      <td>100.0</td>\n      <td>99.9</td>\n      <td>99.9</td>\n      <td>100.0</td>\n    </tr>\n    <tr>\n      <th>4</th>\n      <td>Alabama</td>\n      <td>All items</td>\n      <td>87.6</td>\n      <td>87.5</td>\n      <td>87.9</td>\n      <td>87.7</td>\n      <td>88.1</td>\n      <td>87.8</td>\n      <td>87.1</td>\n      <td>86.8</td>\n      <td>86.1</td>\n      <td>85.5</td>\n      <td>85.9</td>\n      <td>85.8</td>\n    </tr>\n  </tbody>\n</table>\n</div>"
     },
     "metadata": {},
     "execution_count": 36
    }
   ],
   "source": [
    "subset.head()"
   ]
  },
  {
   "cell_type": "code",
   "execution_count": 41,
   "metadata": {},
   "outputs": [
    {
     "output_type": "execute_result",
     "data": {
      "text/plain": [
       "       GeoName      Description   2008   2009   2010   2011   2012   2013  \\\n",
       "4      Alabama        All items   87.6   87.5   87.9   87.7   88.1   87.8   \n",
       "5      Alabama            Goods   97.6   97.6   96.6   96.3   96.2   96.0   \n",
       "6      Alabama  Services: Rents   63.9   63.7   63.8   63.1   64.4   63.6   \n",
       "7      Alabama  Services: Other   93.6   93.2   93.2   93.5   93.7   94.0   \n",
       "8       Alaska        All items  106.9  106.9  105.5  105.1  105.4  104.9   \n",
       "..         ...              ...    ...    ...    ...    ...    ...    ...   \n",
       "203  Wisconsin  Services: Other   91.9   91.9   92.1   92.8   93.7   93.2   \n",
       "204    Wyoming        All items   96.1   96.1   95.9   96.7   95.8   96.0   \n",
       "205    Wyoming            Goods   98.9   98.8   98.9   98.6   98.3   98.3   \n",
       "206    Wyoming  Services: Rents   85.1   87.7   87.8   94.2   90.7   89.9   \n",
       "207    Wyoming  Services: Other   97.6   96.2   95.9   95.5   95.2   96.1   \n",
       "\n",
       "      2014   2015   2016   2017   2018   2019  \n",
       "4     87.1   86.8   86.1   85.5   85.9   85.8  \n",
       "5     96.2   96.4   96.1   95.7   95.9   95.9  \n",
       "6     63.8   62.8   63.1   63.1   61.8   61.9  \n",
       "7     93.3   93.3   91.8   90.4   90.3   90.3  \n",
       "8    106.3  105.5  105.7  105.9  105.7  105.1  \n",
       "..     ...    ...    ...    ...    ...    ...  \n",
       "203   93.6   93.1   92.5   92.3   92.3   92.3  \n",
       "204   96.8   96.4   95.9   94.0   92.3   92.8  \n",
       "205   98.8   99.4   97.7   96.8   96.7   96.7  \n",
       "206   93.5   91.5   92.8   85.6   80.7   82.4  \n",
       "207   96.0   95.2   95.0   94.7   94.8   94.8  \n",
       "\n",
       "[204 rows x 14 columns]"
      ],
      "text/html": "<div>\n<style scoped>\n    .dataframe tbody tr th:only-of-type {\n        vertical-align: middle;\n    }\n\n    .dataframe tbody tr th {\n        vertical-align: top;\n    }\n\n    .dataframe thead th {\n        text-align: right;\n    }\n</style>\n<table border=\"1\" class=\"dataframe\">\n  <thead>\n    <tr style=\"text-align: right;\">\n      <th></th>\n      <th>GeoName</th>\n      <th>Description</th>\n      <th>2008</th>\n      <th>2009</th>\n      <th>2010</th>\n      <th>2011</th>\n      <th>2012</th>\n      <th>2013</th>\n      <th>2014</th>\n      <th>2015</th>\n      <th>2016</th>\n      <th>2017</th>\n      <th>2018</th>\n      <th>2019</th>\n    </tr>\n  </thead>\n  <tbody>\n    <tr>\n      <th>4</th>\n      <td>Alabama</td>\n      <td>All items</td>\n      <td>87.6</td>\n      <td>87.5</td>\n      <td>87.9</td>\n      <td>87.7</td>\n      <td>88.1</td>\n      <td>87.8</td>\n      <td>87.1</td>\n      <td>86.8</td>\n      <td>86.1</td>\n      <td>85.5</td>\n      <td>85.9</td>\n      <td>85.8</td>\n    </tr>\n    <tr>\n      <th>5</th>\n      <td>Alabama</td>\n      <td>Goods</td>\n      <td>97.6</td>\n      <td>97.6</td>\n      <td>96.6</td>\n      <td>96.3</td>\n      <td>96.2</td>\n      <td>96.0</td>\n      <td>96.2</td>\n      <td>96.4</td>\n      <td>96.1</td>\n      <td>95.7</td>\n      <td>95.9</td>\n      <td>95.9</td>\n    </tr>\n    <tr>\n      <th>6</th>\n      <td>Alabama</td>\n      <td>Services: Rents</td>\n      <td>63.9</td>\n      <td>63.7</td>\n      <td>63.8</td>\n      <td>63.1</td>\n      <td>64.4</td>\n      <td>63.6</td>\n      <td>63.8</td>\n      <td>62.8</td>\n      <td>63.1</td>\n      <td>63.1</td>\n      <td>61.8</td>\n      <td>61.9</td>\n    </tr>\n    <tr>\n      <th>7</th>\n      <td>Alabama</td>\n      <td>Services: Other</td>\n      <td>93.6</td>\n      <td>93.2</td>\n      <td>93.2</td>\n      <td>93.5</td>\n      <td>93.7</td>\n      <td>94.0</td>\n      <td>93.3</td>\n      <td>93.3</td>\n      <td>91.8</td>\n      <td>90.4</td>\n      <td>90.3</td>\n      <td>90.3</td>\n    </tr>\n    <tr>\n      <th>8</th>\n      <td>Alaska</td>\n      <td>All items</td>\n      <td>106.9</td>\n      <td>106.9</td>\n      <td>105.5</td>\n      <td>105.1</td>\n      <td>105.4</td>\n      <td>104.9</td>\n      <td>106.3</td>\n      <td>105.5</td>\n      <td>105.7</td>\n      <td>105.9</td>\n      <td>105.7</td>\n      <td>105.1</td>\n    </tr>\n    <tr>\n      <th>...</th>\n      <td>...</td>\n      <td>...</td>\n      <td>...</td>\n      <td>...</td>\n      <td>...</td>\n      <td>...</td>\n      <td>...</td>\n      <td>...</td>\n      <td>...</td>\n      <td>...</td>\n      <td>...</td>\n      <td>...</td>\n      <td>...</td>\n      <td>...</td>\n    </tr>\n    <tr>\n      <th>203</th>\n      <td>Wisconsin</td>\n      <td>Services: Other</td>\n      <td>91.9</td>\n      <td>91.9</td>\n      <td>92.1</td>\n      <td>92.8</td>\n      <td>93.7</td>\n      <td>93.2</td>\n      <td>93.6</td>\n      <td>93.1</td>\n      <td>92.5</td>\n      <td>92.3</td>\n      <td>92.3</td>\n      <td>92.3</td>\n    </tr>\n    <tr>\n      <th>204</th>\n      <td>Wyoming</td>\n      <td>All items</td>\n      <td>96.1</td>\n      <td>96.1</td>\n      <td>95.9</td>\n      <td>96.7</td>\n      <td>95.8</td>\n      <td>96.0</td>\n      <td>96.8</td>\n      <td>96.4</td>\n      <td>95.9</td>\n      <td>94.0</td>\n      <td>92.3</td>\n      <td>92.8</td>\n    </tr>\n    <tr>\n      <th>205</th>\n      <td>Wyoming</td>\n      <td>Goods</td>\n      <td>98.9</td>\n      <td>98.8</td>\n      <td>98.9</td>\n      <td>98.6</td>\n      <td>98.3</td>\n      <td>98.3</td>\n      <td>98.8</td>\n      <td>99.4</td>\n      <td>97.7</td>\n      <td>96.8</td>\n      <td>96.7</td>\n      <td>96.7</td>\n    </tr>\n    <tr>\n      <th>206</th>\n      <td>Wyoming</td>\n      <td>Services: Rents</td>\n      <td>85.1</td>\n      <td>87.7</td>\n      <td>87.8</td>\n      <td>94.2</td>\n      <td>90.7</td>\n      <td>89.9</td>\n      <td>93.5</td>\n      <td>91.5</td>\n      <td>92.8</td>\n      <td>85.6</td>\n      <td>80.7</td>\n      <td>82.4</td>\n    </tr>\n    <tr>\n      <th>207</th>\n      <td>Wyoming</td>\n      <td>Services: Other</td>\n      <td>97.6</td>\n      <td>96.2</td>\n      <td>95.9</td>\n      <td>95.5</td>\n      <td>95.2</td>\n      <td>96.1</td>\n      <td>96.0</td>\n      <td>95.2</td>\n      <td>95.0</td>\n      <td>94.7</td>\n      <td>94.8</td>\n      <td>94.8</td>\n    </tr>\n  </tbody>\n</table>\n<p>204 rows × 14 columns</p>\n</div>"
     },
     "metadata": {},
     "execution_count": 41
    }
   ],
   "source": [
    "df = subset.drop([0,1,2,3])\n",
    "df"
   ]
  },
  {
   "cell_type": "code",
   "execution_count": 44,
   "metadata": {},
   "outputs": [
    {
     "output_type": "execute_result",
     "data": {
      "text/plain": [
       "    GeoName      Description   2008   2009   2010   2011   2012   2013   2014  \\\n",
       "4   Alabama        All items   87.6   87.5   87.9   87.7   88.1   87.8   87.1   \n",
       "5   Alabama            Goods   97.6   97.6   96.6   96.3   96.2   96.0   96.2   \n",
       "6   Alabama  Services: Rents   63.9   63.7   63.8   63.1   64.4   63.6   63.8   \n",
       "7   Alabama  Services: Other   93.6   93.2   93.2   93.5   93.7   94.0   93.3   \n",
       "8    Alaska        All items  106.9  106.9  105.5  105.1  105.4  104.9  106.3   \n",
       "9    Alaska            Goods  102.8  102.8  102.5  101.9  101.3  101.1  101.3   \n",
       "10   Alaska  Services: Rents  133.8  139.3  133.0  136.8  141.9  138.9  144.4   \n",
       "\n",
       "     2015   2016   2017   2018   2019  \n",
       "4    86.8   86.1   85.5   85.9   85.8  \n",
       "5    96.4   96.1   95.7   95.9   95.9  \n",
       "6    62.8   63.1   63.1   61.8   61.9  \n",
       "7    93.3   91.8   90.4   90.3   90.3  \n",
       "8   105.5  105.7  105.9  105.7  105.1  \n",
       "9   101.7  101.8  102.2  102.3  102.3  \n",
       "10  139.4  137.4  132.0  125.9  122.3  "
      ],
      "text/html": "<div>\n<style scoped>\n    .dataframe tbody tr th:only-of-type {\n        vertical-align: middle;\n    }\n\n    .dataframe tbody tr th {\n        vertical-align: top;\n    }\n\n    .dataframe thead th {\n        text-align: right;\n    }\n</style>\n<table border=\"1\" class=\"dataframe\">\n  <thead>\n    <tr style=\"text-align: right;\">\n      <th></th>\n      <th>GeoName</th>\n      <th>Description</th>\n      <th>2008</th>\n      <th>2009</th>\n      <th>2010</th>\n      <th>2011</th>\n      <th>2012</th>\n      <th>2013</th>\n      <th>2014</th>\n      <th>2015</th>\n      <th>2016</th>\n      <th>2017</th>\n      <th>2018</th>\n      <th>2019</th>\n    </tr>\n  </thead>\n  <tbody>\n    <tr>\n      <th>4</th>\n      <td>Alabama</td>\n      <td>All items</td>\n      <td>87.6</td>\n      <td>87.5</td>\n      <td>87.9</td>\n      <td>87.7</td>\n      <td>88.1</td>\n      <td>87.8</td>\n      <td>87.1</td>\n      <td>86.8</td>\n      <td>86.1</td>\n      <td>85.5</td>\n      <td>85.9</td>\n      <td>85.8</td>\n    </tr>\n    <tr>\n      <th>5</th>\n      <td>Alabama</td>\n      <td>Goods</td>\n      <td>97.6</td>\n      <td>97.6</td>\n      <td>96.6</td>\n      <td>96.3</td>\n      <td>96.2</td>\n      <td>96.0</td>\n      <td>96.2</td>\n      <td>96.4</td>\n      <td>96.1</td>\n      <td>95.7</td>\n      <td>95.9</td>\n      <td>95.9</td>\n    </tr>\n    <tr>\n      <th>6</th>\n      <td>Alabama</td>\n      <td>Services: Rents</td>\n      <td>63.9</td>\n      <td>63.7</td>\n      <td>63.8</td>\n      <td>63.1</td>\n      <td>64.4</td>\n      <td>63.6</td>\n      <td>63.8</td>\n      <td>62.8</td>\n      <td>63.1</td>\n      <td>63.1</td>\n      <td>61.8</td>\n      <td>61.9</td>\n    </tr>\n    <tr>\n      <th>7</th>\n      <td>Alabama</td>\n      <td>Services: Other</td>\n      <td>93.6</td>\n      <td>93.2</td>\n      <td>93.2</td>\n      <td>93.5</td>\n      <td>93.7</td>\n      <td>94.0</td>\n      <td>93.3</td>\n      <td>93.3</td>\n      <td>91.8</td>\n      <td>90.4</td>\n      <td>90.3</td>\n      <td>90.3</td>\n    </tr>\n    <tr>\n      <th>8</th>\n      <td>Alaska</td>\n      <td>All items</td>\n      <td>106.9</td>\n      <td>106.9</td>\n      <td>105.5</td>\n      <td>105.1</td>\n      <td>105.4</td>\n      <td>104.9</td>\n      <td>106.3</td>\n      <td>105.5</td>\n      <td>105.7</td>\n      <td>105.9</td>\n      <td>105.7</td>\n      <td>105.1</td>\n    </tr>\n    <tr>\n      <th>9</th>\n      <td>Alaska</td>\n      <td>Goods</td>\n      <td>102.8</td>\n      <td>102.8</td>\n      <td>102.5</td>\n      <td>101.9</td>\n      <td>101.3</td>\n      <td>101.1</td>\n      <td>101.3</td>\n      <td>101.7</td>\n      <td>101.8</td>\n      <td>102.2</td>\n      <td>102.3</td>\n      <td>102.3</td>\n    </tr>\n    <tr>\n      <th>10</th>\n      <td>Alaska</td>\n      <td>Services: Rents</td>\n      <td>133.8</td>\n      <td>139.3</td>\n      <td>133.0</td>\n      <td>136.8</td>\n      <td>141.9</td>\n      <td>138.9</td>\n      <td>144.4</td>\n      <td>139.4</td>\n      <td>137.4</td>\n      <td>132.0</td>\n      <td>125.9</td>\n      <td>122.3</td>\n    </tr>\n  </tbody>\n</table>\n</div>"
     },
     "metadata": {},
     "execution_count": 44
    }
   ],
   "source": [
    "df.head(7)"
   ]
  },
  {
   "cell_type": "code",
   "execution_count": 46,
   "metadata": {},
   "outputs": [
    {
     "output_type": "execute_result",
     "data": {
      "text/plain": [
       "             2008        2009        2010        2011        2012        2013  \\\n",
       "count  204.000000  204.000000  204.000000  204.000000  204.000000  204.000000   \n",
       "mean    97.556863   97.629412   97.201961   97.295098   97.401961   97.399020   \n",
       "std     14.042574   14.053740   13.866396   13.713783   13.655248   13.445475   \n",
       "min     60.100000   61.600000   62.500000   63.100000   62.400000   62.900000   \n",
       "25%     91.975000   91.975000   91.800000   92.175000   92.075000   91.875000   \n",
       "50%     97.550000   97.700000   97.000000   96.950000   97.000000   96.950000   \n",
       "75%    101.850000  101.850000  101.675000  101.400000  100.850000  100.825000   \n",
       "max    167.500000  164.600000  159.200000  157.300000  159.100000  159.300000   \n",
       "\n",
       "             2014        2015        2016        2017        2018        2019  \n",
       "count  204.000000  204.000000  204.000000  204.000000  204.000000  204.000000  \n",
       "mean    97.463725   97.329412   97.086765   96.920588   96.806373   96.763725  \n",
       "std     13.831653   13.597012   13.392233   13.721773   13.442763   13.658497  \n",
       "min     62.900000   62.800000   63.100000   61.400000   60.800000   60.000000  \n",
       "25%     92.075000   92.375000   91.700000   91.575000   91.400000   91.500000  \n",
       "50%     96.650000   96.450000   96.150000   95.900000   96.000000   96.050000  \n",
       "75%    101.400000  101.625000  101.975000  102.275000  102.325000  102.325000  \n",
       "max    161.600000  163.400000  157.200000  156.300000  152.600000  153.600000  "
      ],
      "text/html": "<div>\n<style scoped>\n    .dataframe tbody tr th:only-of-type {\n        vertical-align: middle;\n    }\n\n    .dataframe tbody tr th {\n        vertical-align: top;\n    }\n\n    .dataframe thead th {\n        text-align: right;\n    }\n</style>\n<table border=\"1\" class=\"dataframe\">\n  <thead>\n    <tr style=\"text-align: right;\">\n      <th></th>\n      <th>2008</th>\n      <th>2009</th>\n      <th>2010</th>\n      <th>2011</th>\n      <th>2012</th>\n      <th>2013</th>\n      <th>2014</th>\n      <th>2015</th>\n      <th>2016</th>\n      <th>2017</th>\n      <th>2018</th>\n      <th>2019</th>\n    </tr>\n  </thead>\n  <tbody>\n    <tr>\n      <th>count</th>\n      <td>204.000000</td>\n      <td>204.000000</td>\n      <td>204.000000</td>\n      <td>204.000000</td>\n      <td>204.000000</td>\n      <td>204.000000</td>\n      <td>204.000000</td>\n      <td>204.000000</td>\n      <td>204.000000</td>\n      <td>204.000000</td>\n      <td>204.000000</td>\n      <td>204.000000</td>\n    </tr>\n    <tr>\n      <th>mean</th>\n      <td>97.556863</td>\n      <td>97.629412</td>\n      <td>97.201961</td>\n      <td>97.295098</td>\n      <td>97.401961</td>\n      <td>97.399020</td>\n      <td>97.463725</td>\n      <td>97.329412</td>\n      <td>97.086765</td>\n      <td>96.920588</td>\n      <td>96.806373</td>\n      <td>96.763725</td>\n    </tr>\n    <tr>\n      <th>std</th>\n      <td>14.042574</td>\n      <td>14.053740</td>\n      <td>13.866396</td>\n      <td>13.713783</td>\n      <td>13.655248</td>\n      <td>13.445475</td>\n      <td>13.831653</td>\n      <td>13.597012</td>\n      <td>13.392233</td>\n      <td>13.721773</td>\n      <td>13.442763</td>\n      <td>13.658497</td>\n    </tr>\n    <tr>\n      <th>min</th>\n      <td>60.100000</td>\n      <td>61.600000</td>\n      <td>62.500000</td>\n      <td>63.100000</td>\n      <td>62.400000</td>\n      <td>62.900000</td>\n      <td>62.900000</td>\n      <td>62.800000</td>\n      <td>63.100000</td>\n      <td>61.400000</td>\n      <td>60.800000</td>\n      <td>60.000000</td>\n    </tr>\n    <tr>\n      <th>25%</th>\n      <td>91.975000</td>\n      <td>91.975000</td>\n      <td>91.800000</td>\n      <td>92.175000</td>\n      <td>92.075000</td>\n      <td>91.875000</td>\n      <td>92.075000</td>\n      <td>92.375000</td>\n      <td>91.700000</td>\n      <td>91.575000</td>\n      <td>91.400000</td>\n      <td>91.500000</td>\n    </tr>\n    <tr>\n      <th>50%</th>\n      <td>97.550000</td>\n      <td>97.700000</td>\n      <td>97.000000</td>\n      <td>96.950000</td>\n      <td>97.000000</td>\n      <td>96.950000</td>\n      <td>96.650000</td>\n      <td>96.450000</td>\n      <td>96.150000</td>\n      <td>95.900000</td>\n      <td>96.000000</td>\n      <td>96.050000</td>\n    </tr>\n    <tr>\n      <th>75%</th>\n      <td>101.850000</td>\n      <td>101.850000</td>\n      <td>101.675000</td>\n      <td>101.400000</td>\n      <td>100.850000</td>\n      <td>100.825000</td>\n      <td>101.400000</td>\n      <td>101.625000</td>\n      <td>101.975000</td>\n      <td>102.275000</td>\n      <td>102.325000</td>\n      <td>102.325000</td>\n    </tr>\n    <tr>\n      <th>max</th>\n      <td>167.500000</td>\n      <td>164.600000</td>\n      <td>159.200000</td>\n      <td>157.300000</td>\n      <td>159.100000</td>\n      <td>159.300000</td>\n      <td>161.600000</td>\n      <td>163.400000</td>\n      <td>157.200000</td>\n      <td>156.300000</td>\n      <td>152.600000</td>\n      <td>153.600000</td>\n    </tr>\n  </tbody>\n</table>\n</div>"
     },
     "metadata": {},
     "execution_count": 46
    }
   ],
   "source": [
    "df.describe()"
   ]
  },
  {
   "cell_type": "code",
   "execution_count": 66,
   "metadata": {},
   "outputs": [
    {
     "output_type": "execute_result",
     "data": {
      "text/plain": [
       "(51, 14)"
      ]
     },
     "metadata": {},
     "execution_count": 66
    }
   ],
   "source": [
    "df2 = df[df[\"Description\"]==\"Services: Rents\"]\n",
    "df2.shape\n"
   ]
  },
  {
   "cell_type": "code",
   "execution_count": 67,
   "metadata": {},
   "outputs": [
    {
     "output_type": "execute_result",
     "data": {
      "text/plain": [
       "       GeoName      Description   2008   2009   2010   2011   2012   2013  \\\n",
       "6      Alabama  Services: Rents   63.9   63.7   63.8   63.1   64.4   63.6   \n",
       "10      Alaska  Services: Rents  133.8  139.3  133.0  136.8  141.9  138.9   \n",
       "14     Arizona  Services: Rents  102.6  100.3   95.1   94.2   93.8   91.8   \n",
       "18    Arkansas  Services: Rents   62.4   61.6   63.2   63.1   63.2   63.2   \n",
       "22  California  Services: Rents  154.6  153.7  150.9  149.1  147.5  145.8   \n",
       "26    Colorado  Services: Rents  107.1  106.9  104.4  106.5  106.3  109.6   \n",
       "\n",
       "     2014   2015   2016   2017   2018   2019  \n",
       "6    63.8   62.8   63.1   63.1   61.8   61.9  \n",
       "10  144.4  139.4  137.4  132.0  125.9  122.3  \n",
       "14   91.4   91.4   91.7   92.9   94.3   94.1  \n",
       "18   62.9   63.9   63.7   62.0   60.8   60.9  \n",
       "22  147.4  147.3  148.2  150.5  152.6  153.6  \n",
       "26  111.3  114.7  117.5  120.6  120.7  124.7  "
      ],
      "text/html": "<div>\n<style scoped>\n    .dataframe tbody tr th:only-of-type {\n        vertical-align: middle;\n    }\n\n    .dataframe tbody tr th {\n        vertical-align: top;\n    }\n\n    .dataframe thead th {\n        text-align: right;\n    }\n</style>\n<table border=\"1\" class=\"dataframe\">\n  <thead>\n    <tr style=\"text-align: right;\">\n      <th></th>\n      <th>GeoName</th>\n      <th>Description</th>\n      <th>2008</th>\n      <th>2009</th>\n      <th>2010</th>\n      <th>2011</th>\n      <th>2012</th>\n      <th>2013</th>\n      <th>2014</th>\n      <th>2015</th>\n      <th>2016</th>\n      <th>2017</th>\n      <th>2018</th>\n      <th>2019</th>\n    </tr>\n  </thead>\n  <tbody>\n    <tr>\n      <th>6</th>\n      <td>Alabama</td>\n      <td>Services: Rents</td>\n      <td>63.9</td>\n      <td>63.7</td>\n      <td>63.8</td>\n      <td>63.1</td>\n      <td>64.4</td>\n      <td>63.6</td>\n      <td>63.8</td>\n      <td>62.8</td>\n      <td>63.1</td>\n      <td>63.1</td>\n      <td>61.8</td>\n      <td>61.9</td>\n    </tr>\n    <tr>\n      <th>10</th>\n      <td>Alaska</td>\n      <td>Services: Rents</td>\n      <td>133.8</td>\n      <td>139.3</td>\n      <td>133.0</td>\n      <td>136.8</td>\n      <td>141.9</td>\n      <td>138.9</td>\n      <td>144.4</td>\n      <td>139.4</td>\n      <td>137.4</td>\n      <td>132.0</td>\n      <td>125.9</td>\n      <td>122.3</td>\n    </tr>\n    <tr>\n      <th>14</th>\n      <td>Arizona</td>\n      <td>Services: Rents</td>\n      <td>102.6</td>\n      <td>100.3</td>\n      <td>95.1</td>\n      <td>94.2</td>\n      <td>93.8</td>\n      <td>91.8</td>\n      <td>91.4</td>\n      <td>91.4</td>\n      <td>91.7</td>\n      <td>92.9</td>\n      <td>94.3</td>\n      <td>94.1</td>\n    </tr>\n    <tr>\n      <th>18</th>\n      <td>Arkansas</td>\n      <td>Services: Rents</td>\n      <td>62.4</td>\n      <td>61.6</td>\n      <td>63.2</td>\n      <td>63.1</td>\n      <td>63.2</td>\n      <td>63.2</td>\n      <td>62.9</td>\n      <td>63.9</td>\n      <td>63.7</td>\n      <td>62.0</td>\n      <td>60.8</td>\n      <td>60.9</td>\n    </tr>\n    <tr>\n      <th>22</th>\n      <td>California</td>\n      <td>Services: Rents</td>\n      <td>154.6</td>\n      <td>153.7</td>\n      <td>150.9</td>\n      <td>149.1</td>\n      <td>147.5</td>\n      <td>145.8</td>\n      <td>147.4</td>\n      <td>147.3</td>\n      <td>148.2</td>\n      <td>150.5</td>\n      <td>152.6</td>\n      <td>153.6</td>\n    </tr>\n    <tr>\n      <th>26</th>\n      <td>Colorado</td>\n      <td>Services: Rents</td>\n      <td>107.1</td>\n      <td>106.9</td>\n      <td>104.4</td>\n      <td>106.5</td>\n      <td>106.3</td>\n      <td>109.6</td>\n      <td>111.3</td>\n      <td>114.7</td>\n      <td>117.5</td>\n      <td>120.6</td>\n      <td>120.7</td>\n      <td>124.7</td>\n    </tr>\n  </tbody>\n</table>\n</div>"
     },
     "metadata": {},
     "execution_count": 67
    }
   ],
   "source": [
    "df2.head(6)"
   ]
  },
  {
   "cell_type": "code",
   "execution_count": 69,
   "metadata": {},
   "outputs": [],
   "source": [
    "RentsParities = df2.drop([\"Description\"], axis=1)"
   ]
  },
  {
   "cell_type": "code",
   "execution_count": 70,
   "metadata": {},
   "outputs": [
    {
     "output_type": "execute_result",
     "data": {
      "text/plain": [
       "       GeoName   2008   2009   2010   2011   2012   2013   2014   2015   2016  \\\n",
       "6      Alabama   63.9   63.7   63.8   63.1   64.4   63.6   63.8   62.8   63.1   \n",
       "10      Alaska  133.8  139.3  133.0  136.8  141.9  138.9  144.4  139.4  137.4   \n",
       "14     Arizona  102.6  100.3   95.1   94.2   93.8   91.8   91.4   91.4   91.7   \n",
       "18    Arkansas   62.4   61.6   63.2   63.1   63.2   63.2   62.9   63.9   63.7   \n",
       "22  California  154.6  153.7  150.9  149.1  147.5  145.8  147.4  147.3  148.2   \n",
       "26    Colorado  107.1  106.9  104.4  106.5  106.3  109.6  111.3  114.7  117.5   \n",
       "\n",
       "     2017   2018   2019  \n",
       "6    63.1   61.8   61.9  \n",
       "10  132.0  125.9  122.3  \n",
       "14   92.9   94.3   94.1  \n",
       "18   62.0   60.8   60.9  \n",
       "22  150.5  152.6  153.6  \n",
       "26  120.6  120.7  124.7  "
      ],
      "text/html": "<div>\n<style scoped>\n    .dataframe tbody tr th:only-of-type {\n        vertical-align: middle;\n    }\n\n    .dataframe tbody tr th {\n        vertical-align: top;\n    }\n\n    .dataframe thead th {\n        text-align: right;\n    }\n</style>\n<table border=\"1\" class=\"dataframe\">\n  <thead>\n    <tr style=\"text-align: right;\">\n      <th></th>\n      <th>GeoName</th>\n      <th>2008</th>\n      <th>2009</th>\n      <th>2010</th>\n      <th>2011</th>\n      <th>2012</th>\n      <th>2013</th>\n      <th>2014</th>\n      <th>2015</th>\n      <th>2016</th>\n      <th>2017</th>\n      <th>2018</th>\n      <th>2019</th>\n    </tr>\n  </thead>\n  <tbody>\n    <tr>\n      <th>6</th>\n      <td>Alabama</td>\n      <td>63.9</td>\n      <td>63.7</td>\n      <td>63.8</td>\n      <td>63.1</td>\n      <td>64.4</td>\n      <td>63.6</td>\n      <td>63.8</td>\n      <td>62.8</td>\n      <td>63.1</td>\n      <td>63.1</td>\n      <td>61.8</td>\n      <td>61.9</td>\n    </tr>\n    <tr>\n      <th>10</th>\n      <td>Alaska</td>\n      <td>133.8</td>\n      <td>139.3</td>\n      <td>133.0</td>\n      <td>136.8</td>\n      <td>141.9</td>\n      <td>138.9</td>\n      <td>144.4</td>\n      <td>139.4</td>\n      <td>137.4</td>\n      <td>132.0</td>\n      <td>125.9</td>\n      <td>122.3</td>\n    </tr>\n    <tr>\n      <th>14</th>\n      <td>Arizona</td>\n      <td>102.6</td>\n      <td>100.3</td>\n      <td>95.1</td>\n      <td>94.2</td>\n      <td>93.8</td>\n      <td>91.8</td>\n      <td>91.4</td>\n      <td>91.4</td>\n      <td>91.7</td>\n      <td>92.9</td>\n      <td>94.3</td>\n      <td>94.1</td>\n    </tr>\n    <tr>\n      <th>18</th>\n      <td>Arkansas</td>\n      <td>62.4</td>\n      <td>61.6</td>\n      <td>63.2</td>\n      <td>63.1</td>\n      <td>63.2</td>\n      <td>63.2</td>\n      <td>62.9</td>\n      <td>63.9</td>\n      <td>63.7</td>\n      <td>62.0</td>\n      <td>60.8</td>\n      <td>60.9</td>\n    </tr>\n    <tr>\n      <th>22</th>\n      <td>California</td>\n      <td>154.6</td>\n      <td>153.7</td>\n      <td>150.9</td>\n      <td>149.1</td>\n      <td>147.5</td>\n      <td>145.8</td>\n      <td>147.4</td>\n      <td>147.3</td>\n      <td>148.2</td>\n      <td>150.5</td>\n      <td>152.6</td>\n      <td>153.6</td>\n    </tr>\n    <tr>\n      <th>26</th>\n      <td>Colorado</td>\n      <td>107.1</td>\n      <td>106.9</td>\n      <td>104.4</td>\n      <td>106.5</td>\n      <td>106.3</td>\n      <td>109.6</td>\n      <td>111.3</td>\n      <td>114.7</td>\n      <td>117.5</td>\n      <td>120.6</td>\n      <td>120.7</td>\n      <td>124.7</td>\n    </tr>\n  </tbody>\n</table>\n</div>"
     },
     "metadata": {},
     "execution_count": 70
    }
   ],
   "source": [
    "RentsParities.head(6)"
   ]
  },
  {
   "cell_type": "code",
   "execution_count": 74,
   "metadata": {},
   "outputs": [
    {
     "output_type": "execute_result",
     "data": {
      "text/plain": [
       "       GeoName   2008   2009   2010   2011   2012   2013   2014   2015   2016  \\\n",
       "5      Alabama   97.6   97.6   96.6   96.3   96.2   96.0   96.2   96.4   96.1   \n",
       "9       Alaska  102.8  102.8  102.5  101.9  101.3  101.1  101.3  101.7  101.8   \n",
       "13     Arizona  101.2  101.0  100.6   99.4   98.6   98.1   97.5   96.8   95.7   \n",
       "17    Arkansas   96.6   96.7   95.7   95.2   94.9   94.6   94.7   94.9   94.8   \n",
       "21  California  103.5  103.2  103.0  103.0  103.1  103.7  103.7  103.8  103.9   \n",
       "25    Colorado  101.7  102.0  101.9  101.4  100.2   99.9   99.6   99.4   98.2   \n",
       "\n",
       "     2017   2018   2019  \n",
       "5    95.7   95.9   95.9  \n",
       "9   102.2  102.3  102.3  \n",
       "13   94.8   94.9   94.8  \n",
       "17   94.6   94.7   94.7  \n",
       "21  104.9  104.8  104.9  \n",
       "25   97.4   97.2   97.1  "
      ],
      "text/html": "<div>\n<style scoped>\n    .dataframe tbody tr th:only-of-type {\n        vertical-align: middle;\n    }\n\n    .dataframe tbody tr th {\n        vertical-align: top;\n    }\n\n    .dataframe thead th {\n        text-align: right;\n    }\n</style>\n<table border=\"1\" class=\"dataframe\">\n  <thead>\n    <tr style=\"text-align: right;\">\n      <th></th>\n      <th>GeoName</th>\n      <th>2008</th>\n      <th>2009</th>\n      <th>2010</th>\n      <th>2011</th>\n      <th>2012</th>\n      <th>2013</th>\n      <th>2014</th>\n      <th>2015</th>\n      <th>2016</th>\n      <th>2017</th>\n      <th>2018</th>\n      <th>2019</th>\n    </tr>\n  </thead>\n  <tbody>\n    <tr>\n      <th>5</th>\n      <td>Alabama</td>\n      <td>97.6</td>\n      <td>97.6</td>\n      <td>96.6</td>\n      <td>96.3</td>\n      <td>96.2</td>\n      <td>96.0</td>\n      <td>96.2</td>\n      <td>96.4</td>\n      <td>96.1</td>\n      <td>95.7</td>\n      <td>95.9</td>\n      <td>95.9</td>\n    </tr>\n    <tr>\n      <th>9</th>\n      <td>Alaska</td>\n      <td>102.8</td>\n      <td>102.8</td>\n      <td>102.5</td>\n      <td>101.9</td>\n      <td>101.3</td>\n      <td>101.1</td>\n      <td>101.3</td>\n      <td>101.7</td>\n      <td>101.8</td>\n      <td>102.2</td>\n      <td>102.3</td>\n      <td>102.3</td>\n    </tr>\n    <tr>\n      <th>13</th>\n      <td>Arizona</td>\n      <td>101.2</td>\n      <td>101.0</td>\n      <td>100.6</td>\n      <td>99.4</td>\n      <td>98.6</td>\n      <td>98.1</td>\n      <td>97.5</td>\n      <td>96.8</td>\n      <td>95.7</td>\n      <td>94.8</td>\n      <td>94.9</td>\n      <td>94.8</td>\n    </tr>\n    <tr>\n      <th>17</th>\n      <td>Arkansas</td>\n      <td>96.6</td>\n      <td>96.7</td>\n      <td>95.7</td>\n      <td>95.2</td>\n      <td>94.9</td>\n      <td>94.6</td>\n      <td>94.7</td>\n      <td>94.9</td>\n      <td>94.8</td>\n      <td>94.6</td>\n      <td>94.7</td>\n      <td>94.7</td>\n    </tr>\n    <tr>\n      <th>21</th>\n      <td>California</td>\n      <td>103.5</td>\n      <td>103.2</td>\n      <td>103.0</td>\n      <td>103.0</td>\n      <td>103.1</td>\n      <td>103.7</td>\n      <td>103.7</td>\n      <td>103.8</td>\n      <td>103.9</td>\n      <td>104.9</td>\n      <td>104.8</td>\n      <td>104.9</td>\n    </tr>\n    <tr>\n      <th>25</th>\n      <td>Colorado</td>\n      <td>101.7</td>\n      <td>102.0</td>\n      <td>101.9</td>\n      <td>101.4</td>\n      <td>100.2</td>\n      <td>99.9</td>\n      <td>99.6</td>\n      <td>99.4</td>\n      <td>98.2</td>\n      <td>97.4</td>\n      <td>97.2</td>\n      <td>97.1</td>\n    </tr>\n  </tbody>\n</table>\n</div>"
     },
     "metadata": {},
     "execution_count": 74
    }
   ],
   "source": [
    "df3 = df[df[\"Description\"]==\"Goods\"]\n",
    "GoodsParities = df3.drop([\"Description\"], axis=1)\n",
    "GoodsParities.head(6)"
   ]
  },
  {
   "cell_type": "code",
   "execution_count": null,
   "metadata": {},
   "outputs": [],
   "source": []
  },
  {
   "cell_type": "code",
   "execution_count": null,
   "metadata": {},
   "outputs": [],
   "source": []
  },
  {
   "cell_type": "code",
   "execution_count": null,
   "metadata": {},
   "outputs": [],
   "source": []
  }
 ],
 "metadata": {
  "kernelspec": {
   "name": "python385jvsc74a57bd05e22ac6baddcf120b97beb3461084d41d9352410d7d5d9564b1e22f7e11e5944",
   "display_name": "Python 3.8.5 64-bit (conda)"
  },
  "language_info": {
   "codemirror_mode": {
    "name": "ipython",
    "version": 3
   },
   "file_extension": ".py",
   "mimetype": "text/x-python",
   "name": "python",
   "nbconvert_exporter": "python",
   "pygments_lexer": "ipython3",
   "version": "3.8.5"
  }
 },
 "nbformat": 4,
 "nbformat_minor": 4
}